{
  "nbformat": 4,
  "nbformat_minor": 0,
  "metadata": {
    "colab": {
      "provenance": []
    },
    "kernelspec": {
      "name": "python3",
      "display_name": "Python 3"
    },
    "language_info": {
      "name": "python"
    }
  },
  "cells": [
    {
      "cell_type": "markdown",
      "source": [
        "**Practice Problem #1**"
      ],
      "metadata": {
        "id": "qQ68SwNmA2gz"
      }
    },
    {
      "cell_type": "code",
      "execution_count": 1,
      "metadata": {
        "colab": {
          "base_uri": "https://localhost:8080/"
        },
        "id": "H9QmfF3EAxPS",
        "outputId": "4a0f80a2-d845-4099-ac7a-9423f8fc5d5e"
      },
      "outputs": [
        {
          "output_type": "stream",
          "name": "stdout",
          "text": [
            "Matrix A:\n",
            " [[3 4]\n",
            " [2 5]]\n",
            "\n",
            "Determinant of A: 7.000000000000001\n",
            "\n",
            "Inverse of A:\n",
            " [[ 0.71428571 -0.57142857]\n",
            " [-0.28571429  0.42857143]]\n"
          ]
        }
      ],
      "source": [
        "import numpy as np\n",
        "\n",
        "# Define the matrix A\n",
        "A = np.array([[3, 4],\n",
        "              [2, 5]])\n",
        "\n",
        "# Calculate the determinant\n",
        "det_A = np.linalg.det(A)\n",
        "\n",
        "# Check if the determinant is non-zero\n",
        "if det_A != 0:\n",
        "    # Calculate the inverse\n",
        "    A_inv = np.linalg.inv(A)\n",
        "    print(\"Matrix A:\\n\", A)\n",
        "    print(\"\\nDeterminant of A:\", det_A)\n",
        "    print(\"\\nInverse of A:\\n\", A_inv)\n",
        "else:\n",
        "    print(\"Matrix A is singular and does not have an inverse.\")"
      ]
    },
    {
      "cell_type": "markdown",
      "source": [
        "**Practice Problem #2**"
      ],
      "metadata": {
        "id": "mEIcvW6mA9mL"
      }
    },
    {
      "cell_type": "code",
      "source": [
        "# Define the coefficient matrix A and the constant matrix B\n",
        "A = np.array([[2, 3],\n",
        "              [4, -1]])\n",
        "B = np.array([7, 5])\n",
        "\n",
        "# Solve for X (x and y)\n",
        "try:\n",
        "    X = np.linalg.solve(A, B)\n",
        "    print(\"Solution to the system of equations:\")\n",
        "    print(\"x =\", X[0])\n",
        "    print(\"y =\", X[1])\n",
        "except np.linalg.LinAlgError:\n",
        "    print(\"The system of equations does not have a unique solution.\")"
      ],
      "metadata": {
        "colab": {
          "base_uri": "https://localhost:8080/"
        },
        "id": "JJvf_wwNA85q",
        "outputId": "36f0ab98-4804-4291-e431-8fb38016a502"
      },
      "execution_count": 3,
      "outputs": [
        {
          "output_type": "stream",
          "name": "stdout",
          "text": [
            "Solution to the system of equations:\n",
            "x = 1.5714285714285714\n",
            "y = 1.2857142857142858\n"
          ]
        }
      ]
    },
    {
      "cell_type": "markdown",
      "source": [
        "**Practice Problem #3**"
      ],
      "metadata": {
        "id": "h1n2SGOKBxFl"
      }
    },
    {
      "cell_type": "code",
      "source": [
        "# Define the matrix A\n",
        "A = np.array([[1, 2, 3],\n",
        "              [0, 1, 4],\n",
        "              [5, 6, 0]])\n",
        "\n",
        "# Calculate the determinant\n",
        "det_A = np.linalg.det(A)\n",
        "\n",
        "# Check if the determinant is non-zero\n",
        "if det_A != 0:\n",
        "    # Calculate the inverse\n",
        "    A_inv = np.linalg.inv(A)\n",
        "    print(\"Matrix A:\\n\", A)\n",
        "    print(\"\\nDeterminant of A:\", det_A)\n",
        "    print(\"\\nInverse of A:\\n\", A_inv)\n",
        "else:\n",
        "    print(\"Matrix A is singular and does not have an inverse.\")"
      ],
      "metadata": {
        "colab": {
          "base_uri": "https://localhost:8080/"
        },
        "id": "NLhsIWA5BDxx",
        "outputId": "e1f5d284-a172-4125-94bb-72e970bde858"
      },
      "execution_count": 4,
      "outputs": [
        {
          "output_type": "stream",
          "name": "stdout",
          "text": [
            "Matrix A:\n",
            " [[1 2 3]\n",
            " [0 1 4]\n",
            " [5 6 0]]\n",
            "\n",
            "Determinant of A: 0.9999999999999964\n",
            "\n",
            "Inverse of A:\n",
            " [[-24.  18.   5.]\n",
            " [ 20. -15.  -4.]\n",
            " [ -5.   4.   1.]]\n"
          ]
        }
      ]
    },
    {
      "cell_type": "markdown",
      "source": [
        "**Practice Problem #4**"
      ],
      "metadata": {
        "id": "4XHCZmBoB1OV"
      }
    },
    {
      "cell_type": "code",
      "source": [
        "# Define the coefficient matrix A and the constant matrix B\n",
        "A = np.array([[1, 1, 1],\n",
        "              [2, 5, 1],\n",
        "              [2, 3, 8]])\n",
        "B = np.array([6, -4, 9])\n",
        "\n",
        "# Solve using the matrix inverse\n",
        "try:\n",
        "    # Calculate the inverse of A\n",
        "    A_inv = np.linalg.inv(A)\n",
        "    # Solve for X\n",
        "    X = np.dot(A_inv, B)\n",
        "    print(\"Solution to the system of equations:\")\n",
        "    print(\"x =\", X[0])\n",
        "    print(\"y =\", X[1])\n",
        "    print(\"z =\", X[2])\n",
        "except np.linalg.LinAlgError:\n",
        "    print(\"The coefficient matrix A is singular; the system cannot be solved with the matrix inverse method.\")"
      ],
      "metadata": {
        "colab": {
          "base_uri": "https://localhost:8080/"
        },
        "id": "0f3d_HvZB2wZ",
        "outputId": "be9bfcaa-c0a6-4350-ca6b-129d4178b730"
      },
      "execution_count": 5,
      "outputs": [
        {
          "output_type": "stream",
          "name": "stdout",
          "text": [
            "Solution to the system of equations:\n",
            "x = 10.842105263157896\n",
            "y = -5.210526315789474\n",
            "z = 0.3684210526315789\n"
          ]
        }
      ]
    },
    {
      "cell_type": "markdown",
      "source": [
        "**Practice Problem #5**"
      ],
      "metadata": {
        "id": "JbnQurBJCX65"
      }
    },
    {
      "cell_type": "code",
      "source": [
        "# Define matrix A and vector b\n",
        "A = np.array([[4, -1, 0],\n",
        "              [3, 5, 2],\n",
        "              [-2, 4, 1]])\n",
        "b = np.array([5, 6, 2])\n",
        "\n",
        "# Solve for x\n",
        "try:\n",
        "    x = np.linalg.solve(A, b)  # Direct method to solve Ax = b\n",
        "    print(\"Solution vector x:\")\n",
        "    print(x)\n",
        "except np.linalg.LinAlgError:\n",
        "    print(\"Matrix A is singular; the system cannot be solved.\")"
      ],
      "metadata": {
        "colab": {
          "base_uri": "https://localhost:8080/"
        },
        "id": "eNCHq8exCZyS",
        "outputId": "40abfd63-ea82-4771-b66a-a58085e55f76"
      },
      "execution_count": 6,
      "outputs": [
        {
          "output_type": "stream",
          "name": "stdout",
          "text": [
            "Solution vector x:\n",
            "[  2.6   5.4 -14.4]\n"
          ]
        }
      ]
    }
  ]
}