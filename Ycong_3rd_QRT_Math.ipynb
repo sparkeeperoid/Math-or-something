{
  "nbformat": 4,
  "nbformat_minor": 0,
  "metadata": {
    "colab": {
      "provenance": []
    },
    "kernelspec": {
      "name": "python3",
      "display_name": "Python 3"
    },
    "language_info": {
      "name": "python"
    }
  },
  "cells": [
    {
      "cell_type": "markdown",
      "source": [
        "**Part 4: Practice Problems**"
      ],
      "metadata": {
        "id": "w4jdgPx7tIk1"
      }
    },
    {
      "cell_type": "markdown",
      "source": [
        "**Problem 1**"
      ],
      "metadata": {
        "id": "AZvUqMdEtNPR"
      }
    },
    {
      "cell_type": "code",
      "execution_count": 2,
      "metadata": {
        "colab": {
          "base_uri": "https://localhost:8080/"
        },
        "id": "_AavcWVxq11D",
        "outputId": "0d1f9295-69d4-4f66-bc50-04e37c96554c"
      },
      "outputs": [
        {
          "output_type": "stream",
          "name": "stdout",
          "text": [
            "Determinant of A: 38.99999999999999\n",
            "Solution (Unknowns):\n",
            "[2.64102564 1.61538462 1.8974359 ]\n"
          ]
        }
      ],
      "source": [
        "import numpy as np\n",
        "\n",
        "A = np.array([\n",
        "    [2, 1, -1],\n",
        "    [-1, 3, 2],\n",
        "    [1, -2, 4]\n",
        "])\n",
        "\n",
        "B = np.array([5, 6, 7])\n",
        "\n",
        "det_A = np.linalg.det(A)\n",
        "print(f\"Determinant of A: {det_A}\")\n",
        "\n",
        "if det_A == 0:\n",
        "  print(\"[Matrix A is singular and cannot be inverted!]\")\n",
        "else:\n",
        "  A_inv = np.linalg.inv(A)\n",
        "  X = np.dot(A_inv, B)\n",
        "\n",
        "  print(\"Solution (Unknowns):\")\n",
        "  print(X)"
      ]
    },
    {
      "cell_type": "markdown",
      "source": [
        "**Problem 2**"
      ],
      "metadata": {
        "id": "IGitNQaltuFE"
      }
    },
    {
      "cell_type": "code",
      "source": [
        "A = np.array([\n",
        "    [5, 3, 1, 1, 0],\n",
        "    [4, 6, 2, 0, 1],\n",
        "    [2, 7, 3, 1, 0],\n",
        "    [1, 2, 4, 5, 0],\n",
        "    [3, 4, 5, 0, 6]\n",
        "])\n",
        "\n",
        "B = np.array([200, 300, 150, 120, 250])\n",
        "\n",
        "det_A = np.linalg.det(A)\n",
        "print(f\"Determinant of A: {det_A}\")\n",
        "\n",
        "if det_A == 0:\n",
        "  print(\"[Matrix A is singular and cannot be inverted!]\")\n",
        "else:\n",
        "  A_inv = np.linalg.inv(A)\n",
        "  X = np.dot(A_inv, B)\n",
        "\n",
        "  print(\"Solution (Unknowns):\")\n",
        "  print(X)"
      ],
      "metadata": {
        "colab": {
          "base_uri": "https://localhost:8080/"
        },
        "id": "25BoxOI5trzl",
        "outputId": "e684f820-4b11-4c78-e3eb-10ec4774a042"
      },
      "execution_count": 3,
      "outputs": [
        {
          "output_type": "stream",
          "name": "stdout",
          "text": [
            "Determinant of A: 224.9999999999996\n",
            "Solution (Unknowns):\n",
            "[ -23.86666667  137.6        -336.          242.53333333  241.86666667]\n"
          ]
        }
      ]
    },
    {
      "cell_type": "markdown",
      "source": [
        "**Problem 3**"
      ],
      "metadata": {
        "id": "EZEbyQ6guSu0"
      }
    },
    {
      "cell_type": "code",
      "source": [
        "A = np.array([\n",
        "    [4, 6, 8, 1, 2, 3, 5],\n",
        "    [1, 6, 2, 4, 6, 1, 8],\n",
        "    [7, 2, 3, 2, 1, 5 ,9],\n",
        "    [1, 9, 8, 4, 2, 1, 1],\n",
        "    [4, 6, 5, 4, 2, 1, 3],\n",
        "    [5, 1, 6, 7, 2, 1, 8],\n",
        "    [4, 1, 8, 3, 2, 5, 1]\n",
        "])\n",
        "\n",
        "B = np.array([10, 20, 15, 30, 25, 35, 40])\n",
        "\n",
        "det_A = np.linalg.det(A)\n",
        "print(f\"Determinant of A: {det_A}\")\n",
        "\n",
        "if det_A == 0:\n",
        "  print(\"[Matrix A is singular and cannot be inverted!]\")\n",
        "else:\n",
        "  A_inv = np.linalg.inv(A)\n",
        "  X = np.dot(A_inv, B)\n",
        "\n",
        "  print(\"Solution (Unknowns): \")\n",
        "  print(X)"
      ],
      "metadata": {
        "colab": {
          "base_uri": "https://localhost:8080/"
        },
        "id": "_vhBL-efuSIG",
        "outputId": "ccb98400-52ef-4cff-ac39-c480119967fa"
      },
      "execution_count": 12,
      "outputs": [
        {
          "output_type": "stream",
          "name": "stdout",
          "text": [
            "Determinant of A: 156237.00000000003\n",
            "Solution (Unknowns): \n",
            "[-0.36153408 -0.09248769  0.07680639  6.57613113  1.01298028  4.23020795\n",
            " -1.98122084]\n"
          ]
        }
      ]
    },
    {
      "cell_type": "markdown",
      "source": [
        "**Problem 4**"
      ],
      "metadata": {
        "id": "WsZx1GbnvZ7J"
      }
    },
    {
      "cell_type": "code",
      "source": [
        "A = np.array([\n",
        "    [1, 6, 3, 2, 1],\n",
        "    [6, 8, 9, 7, 1],\n",
        "    [2, 5, 3, 1, 9],\n",
        "    [4, 1, 2, 3, 5],\n",
        "    [6, 1, 2, 4, 5]\n",
        "])\n",
        "\n",
        "B = np.array([100, 200, 300, 400, 500])\n",
        "\n",
        "det_A = np.linalg.det(A)\n",
        "print(f\"Determinant of A: {det_A}\")\n",
        "\n",
        "if det_A == 0:\n",
        "  print(\"[Matrix A is singular and cannot be inverted!]\")\n",
        "else:\n",
        "  A_inv = np.linalg.inv(A)\n",
        "  X = np.dot(A_inv, B)\n",
        "\n",
        "  print(\"Solution (Unknowns): \")\n",
        "  print(X)"
      ],
      "metadata": {
        "colab": {
          "base_uri": "https://localhost:8080/"
        },
        "id": "1VlCER1JvZXh",
        "outputId": "cd21564a-db14-4155-96a1-b1f30ec1dce9"
      },
      "execution_count": 13,
      "outputs": [
        {
          "output_type": "stream",
          "name": "stdout",
          "text": [
            "Determinant of A: -503.0\n",
            "Solution (Unknowns): \n",
            "[-16.69980119   9.34393638 -83.69781312 133.39960239  44.9304175 ]\n"
          ]
        }
      ]
    },
    {
      "cell_type": "markdown",
      "source": [
        "**Problem 5**"
      ],
      "metadata": {
        "id": "8NBykGNtvu6o"
      }
    },
    {
      "cell_type": "code",
      "source": [
        "def solve_linear_system(A, B):\n",
        "  det_A = np.linalg.det(A)\n",
        "  print(f\"Determinant of A: {det_A}\")\n",
        "\n",
        "  if det_A == 0:\n",
        "    print(\"[Matrix A is singular and cannot be inverted!]\")\n",
        "    return None\n",
        "  else:\n",
        "    A_inv = np.linalg.inv(A)\n",
        "    X = np.dot(A_inv, B)\n",
        "\n",
        "    print(\"Solution (Unknowns): \")\n",
        "    print(X)\n",
        "\n",
        "A1 = np.array([\n",
        "    [3, 5, -1],\n",
        "    [-1, 3, 2],\n",
        "    [1, -2, 4]\n",
        "])\n",
        "\n",
        "B1 = np.array([5, 6, 7])\n",
        "solve_linear_system(A1, B1)"
      ],
      "metadata": {
        "colab": {
          "base_uri": "https://localhost:8080/"
        },
        "id": "T2mQ1M1svue3",
        "outputId": "a1cbfffc-0fa1-4e6e-8808-768592710ed5"
      },
      "execution_count": 11,
      "outputs": [
        {
          "output_type": "stream",
          "name": "stdout",
          "text": [
            "Determinant of A: 38.99999999999999\n",
            "Solution (Unknowns): \n",
            "[2.64102564 1.61538462 1.8974359 ]\n"
          ]
        }
      ]
    }
  ]
}