{
  "nbformat": 4,
  "nbformat_minor": 0,
  "metadata": {
    "colab": {
      "provenance": []
    },
    "kernelspec": {
      "name": "python3",
      "display_name": "Python 3"
    },
    "language_info": {
      "name": "python"
    }
  },
  "cells": [
    {
      "cell_type": "markdown",
      "source": [
        "**Matrix Generation**"
      ],
      "metadata": {
        "id": "fhyAYo5kgC8f"
      }
    },
    {
      "cell_type": "code",
      "execution_count": null,
      "metadata": {
        "id": "WMzgeQF8e7zJ",
        "colab": {
          "base_uri": "https://localhost:8080/"
        },
        "outputId": "911f92c2-7bfc-4b46-bd82-9329042e5c95"
      },
      "outputs": [
        {
          "output_type": "stream",
          "name": "stdout",
          "text": [
            "Generated 3 x 4 Matrix:\n",
            "[[19 12  1 16]\n",
            " [13 13 18 18]\n",
            " [11 10  5 14]]\n",
            "\n",
            "Coefficient Matrix (A):\n",
            "[[19 12  1]\n",
            " [13 13 18]\n",
            " [11 10  5]]\n",
            "\n",
            "Right-Hand Side Vector (b):\n",
            "[16 18 14]\n"
          ]
        }
      ],
      "source": [
        "import numpy as np\n",
        "\n",
        "# Step 1: Generate a 3 x 4 random matrix\n",
        "matrix_3x4 = np.random.randint(1, 21, size = (3, 4)) # Adjust range as needed\n",
        "\n",
        "A = matrix_3x4[:, :3] # Coefficient matrix (first 3 columns)\n",
        "b = matrix_3x4[:, 3] # Right-hand side vector (last column)\n",
        "\n",
        "print(\"Generated 3 x 4 Matrix:\")\n",
        "print(matrix_3x4)\n",
        "print(\"\\nCoefficient Matrix (A):\")\n",
        "print(A)\n",
        "print(\"\\nRight-Hand Side Vector (b):\")\n",
        "print(b)"
      ]
    },
    {
      "cell_type": "markdown",
      "source": [
        "**Solution Verifier**"
      ],
      "metadata": {
        "id": "5hQ2Am8uiLC7"
      }
    },
    {
      "cell_type": "code",
      "source": [
        "# Solve using Matrix Inverse Method\n",
        "try:\n",
        "    A_inv = np.linalg.inv(A) # Compute A^-1\n",
        "    x_manual = np.dot(A_inv, b) # x = A^-1 * b\n",
        "    print(\"\\nSolution using Matrix Inverse Method:\")\n",
        "    print(x_manual)\n",
        "except np.linalg.LinAlgError:\n",
        "    print(\"\\nMatrix A is singular and cannot be inverted!\")\n",
        "\n",
        "# Solve using Gaussian Elimination\n",
        "x_gaussian = np.linalg.solve(A, b)\n",
        "print(\"\\nSolution using Gaussian Elimination (NumpPy):\")\n",
        "print(x_gaussian)\n",
        "\n",
        "# Verify the solution\n",
        "b_check = np.dot(A, x_gaussian) # Recompute b using A and the computed x\n",
        "print(\"\\nVerification (Ax = b):\")\n",
        "print(b_check)"
      ],
      "metadata": {
        "colab": {
          "base_uri": "https://localhost:8080/"
        },
        "id": "KQzAVnRRiKZ4",
        "outputId": "432acc5e-516c-4f75-ca7c-6fb05240f59f"
      },
      "execution_count": null,
      "outputs": [
        {
          "output_type": "stream",
          "name": "stdout",
          "text": [
            "\n",
            "Solution using Matrix Inverse Method:\n",
            "[-0.16943522  1.60465116 -0.03654485]\n",
            "\n",
            "Solution using Gaussian Elimination (NumpPy):\n",
            "[-0.16943522  1.60465116 -0.03654485]\n",
            "\n",
            "Verification (Ax = b):\n",
            "[16. 18. 14.]\n"
          ]
        }
      ]
    }
  ]
}