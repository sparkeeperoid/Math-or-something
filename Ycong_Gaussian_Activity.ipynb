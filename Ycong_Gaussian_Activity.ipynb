{
  "nbformat": 4,
  "nbformat_minor": 0,
  "metadata": {
    "colab": {
      "provenance": []
    },
    "kernelspec": {
      "name": "python3",
      "display_name": "Python 3"
    },
    "language_info": {
      "name": "python"
    }
  },
  "cells": [
    {
      "cell_type": "markdown",
      "source": [
        "#1."
      ],
      "metadata": {
        "id": "oXkL2G9Pp2Ut"
      }
    },
    {
      "cell_type": "code",
      "source": [
        "import numpy as np\n",
        "\n",
        "def naive_gauss_elimination(A, b):\n",
        "    n = len(b)\n",
        "    # Forward elimination\n",
        "    for k in range(n - 1):\n",
        "        for i in range(k + 1, n):\n",
        "            factor = A[i, k] / A[k, k]  # Compute multiplier\n",
        "            A[i, k:] -= factor * A[k, k:]  # Row reduction\n",
        "            b[i] -= factor * b[k]  # Adjust right-hand side\n",
        "\n",
        "    # Back substitution\n",
        "    x = np.zeros(n)\n",
        "    for i in range(n - 1, -1, -1):  # Work backwards from last row\n",
        "        x[i] = (b[i] - np.dot(A[i, i + 1:], x[i + 1:])) / A[i, i]\n",
        "    return x\n",
        "\n",
        "# Define the system\n",
        "A1 = np.array([[4, 1, -1],\n",
        "               [5, 1, 2],\n",
        "               [6, 1, 1]], dtype=float)\n",
        "b1 = np.array([-2, 4, 6], dtype=float)\n",
        "\n",
        "# Solve the system\n",
        "solution_1 = naive_gauss_elimination(A1.copy(), b1.copy())\n",
        "print(\"Solution (Problem 1):\", solution_1)"
      ],
      "metadata": {
        "colab": {
          "base_uri": "https://localhost:8080/"
        },
        "id": "eu1xMqJ0p4gu",
        "outputId": "06b47d56-d386-4f98-de59-3e11d0dbafc3"
      },
      "execution_count": 8,
      "outputs": [
        {
          "output_type": "stream",
          "name": "stdout",
          "text": [
            "Solution (Problem 1): [  3. -13.   1.]\n"
          ]
        }
      ]
    },
    {
      "cell_type": "markdown",
      "source": [
        "#2."
      ],
      "metadata": {
        "id": "haMOqlk7qNpF"
      }
    },
    {
      "cell_type": "code",
      "source": [
        "def naive_gauss_elimination_chopping(A, b, sig_digits):\n",
        "    def chop(value):\n",
        "        # Simulate chopping by restricting to significant digits\n",
        "        return np.floor(value * 10**(sig_digits - 1)) / 10**(sig_digits - 1)\n",
        "\n",
        "    n = len(b)\n",
        "    # Forward elimination with chopping\n",
        "    for k in range(n - 1):\n",
        "        for i in range(k + 1, n):\n",
        "            factor = chop(A[i, k]) / chop(A[k, k])\n",
        "            A[i, k:] = chop(A[i, k:] - chop(factor * A[k, k:]))\n",
        "            b[i] = chop(b[i] - chop(factor * b[k]))\n",
        "\n",
        "    # Back substitution with chopping\n",
        "    x = np.zeros(n)\n",
        "    for i in range(n - 1, -1, -1):\n",
        "        x[i] = chop((chop(b[i]) - chop(np.dot(A[i, i + 1:], x[i + 1:])))) / chop(A[i, i])\n",
        "    return x\n",
        "\n",
        "# Solve with chopping\n",
        "solution_2 = naive_gauss_elimination_chopping(A1.copy(), b1.copy(), 4)\n",
        "print(\"Solution (Problem 2):\", solution_2)"
      ],
      "metadata": {
        "colab": {
          "base_uri": "https://localhost:8080/"
        },
        "id": "jC4hrA6_qObA",
        "outputId": "49205cee-1bf0-4bf5-b2e6-5642a4d621f5"
      },
      "execution_count": 9,
      "outputs": [
        {
          "output_type": "stream",
          "name": "stdout",
          "text": [
            "Solution (Problem 2): [  3. -13.   1.]\n"
          ]
        }
      ]
    },
    {
      "cell_type": "markdown",
      "source": [
        "#3."
      ],
      "metadata": {
        "id": "o4H6nkjcqv-o"
      }
    },
    {
      "cell_type": "code",
      "source": [
        "def determinant_using_forward_elimination(A):\n",
        "    n = len(A)\n",
        "    det = 1  # Initialize determinant\n",
        "    for k in range(n - 1):\n",
        "        for i in range(k + 1, n):\n",
        "            factor = A[i, k] / A[k, k]  # Compute multiplier\n",
        "            A[i, k:] -= factor * A[k, k:]  # Row reduction\n",
        "\n",
        "    # Multiply diagonal elements to compute determinant\n",
        "    for i in range(n):\n",
        "        det *= A[i, i]\n",
        "    return det\n",
        "\n",
        "# Define the matrix\n",
        "A3 = np.array([[10, -7, 0],\n",
        "               [-3, 2.099, 6],\n",
        "               [5, -1, 5]], dtype=float)\n",
        "\n",
        "# Compute determinant\n",
        "determinant_3 = determinant_using_forward_elimination(A3.copy())\n",
        "print(\"Determinant (Problem 3):\", determinant_3)"
      ],
      "metadata": {
        "colab": {
          "base_uri": "https://localhost:8080/"
        },
        "id": "htEN264Iqx4M",
        "outputId": "703a3148-e151-4311-f260-5e42e4477a2b"
      },
      "execution_count": 10,
      "outputs": [
        {
          "output_type": "stream",
          "name": "stdout",
          "text": [
            "Determinant (Problem 3): -150.04999999999998\n"
          ]
        }
      ]
    },
    {
      "cell_type": "markdown",
      "source": [
        "#4."
      ],
      "metadata": {
        "id": "m8TECrDxrePN"
      }
    },
    {
      "cell_type": "code",
      "source": [
        "# Triangular matrix from forward elimination:\n",
        "B = np.array([\n",
        "    [25, 5, 1],\n",
        "    [0, -4.8, -1.56],\n",
        "    [0, 0, 0.7]\n",
        "], dtype=float)\n",
        "\n",
        "# Determinant is the product of diagonal elements of the triangular matrix\n",
        "determinant = np.prod(np.diag(B))  # Multiply diagonal entries\n",
        "print(\"Determinant of [A]:\", determinant)"
      ],
      "metadata": {
        "colab": {
          "base_uri": "https://localhost:8080/"
        },
        "id": "dHrazY1FrfEQ",
        "outputId": "6d4a67bb-be70-482e-a978-f050c139b087"
      },
      "execution_count": 5,
      "outputs": [
        {
          "output_type": "stream",
          "name": "stdout",
          "text": [
            "Determinant of [A]: -84.0\n"
          ]
        }
      ]
    },
    {
      "cell_type": "markdown",
      "source": [
        "#5."
      ],
      "metadata": {
        "id": "e6_Q51fvri6U"
      }
    },
    {
      "cell_type": "code",
      "source": [
        "def gaussian_elimination_partial_pivoting(A, b):\n",
        "    n = len(b)\n",
        "    for k in range(n - 1):\n",
        "        # Pivot: Find the largest value in the column\n",
        "        max_row = np.argmax(abs(A[k:, k])) + k\n",
        "        A[[k, max_row]] = A[[max_row, k]]  # Swap rows in A\n",
        "        b[[k, max_row]] = b[[max_row, k]]  # Swap rows in b\n",
        "\n",
        "        # Elimination step\n",
        "        for i in range(k + 1, n):\n",
        "            factor = A[i, k] / A[k, k]\n",
        "            A[i, k:] -= factor * A[k, k:]  # Row operation\n",
        "            b[i] -= factor * b[k]         # Adjust RHS\n",
        "\n",
        "    # Back substitution\n",
        "    x = np.zeros(n)\n",
        "    for i in range(n - 1, -1, -1):\n",
        "        x[i] = (b[i] - np.dot(A[i, i + 1:], x[i + 1:])) / A[i, i]\n",
        "    return x\n",
        "\n",
        "# Define the system\n",
        "A5 = np.array([[4, 1, -1],\n",
        "               [5, 1, 2],\n",
        "               [6, 1, 1]], dtype=float)\n",
        "b5 = np.array([-2, 4, 6], dtype=float)\n",
        "\n",
        "# Solve using partial pivoting\n",
        "solution_5 = gaussian_elimination_partial_pivoting(A5.copy(), b5.copy())\n",
        "print(\"Solution (Problem 5):\", solution_5)"
      ],
      "metadata": {
        "colab": {
          "base_uri": "https://localhost:8080/"
        },
        "id": "uxQRsEA2rjox",
        "outputId": "8d5713aa-aad6-4a8f-dcd0-a8c71b791dce"
      },
      "execution_count": 6,
      "outputs": [
        {
          "output_type": "stream",
          "name": "stdout",
          "text": [
            "Solution (Problem 5): [  3. -13.   1.]\n"
          ]
        }
      ]
    },
    {
      "cell_type": "markdown",
      "source": [
        "#6."
      ],
      "metadata": {
        "id": "NEfxC-bProNA"
      }
    },
    {
      "cell_type": "code",
      "source": [
        "def gaussian_elimination_chopping_partial_pivoting(A, b, sig_digits):\n",
        "    def chop(value):\n",
        "        # Simulate chopping by limiting to significant digits\n",
        "        return np.floor(value * 10**(sig_digits - 1)) / 10**(sig_digits - 1)\n",
        "\n",
        "    n = len(b)\n",
        "    for k in range(n - 1):\n",
        "        # Pivot step (same as above)\n",
        "        max_row = np.argmax(abs(A[k:, k])) + k\n",
        "        A[[k, max_row]] = A[[max_row, k]]\n",
        "        b[[k, max_row]] = b[[max_row, k]]\n",
        "\n",
        "        # Elimination step with chopping\n",
        "        for i in range(k + 1, n):\n",
        "            factor = chop(A[i, k]) / chop(A[k, k])\n",
        "            A[i, k:] = chop(A[i, k:] - chop(factor * A[k, k:]))\n",
        "            b[i] = chop(b[i] - chop(factor * b[k]))\n",
        "\n",
        "    # Back substitution with chopping\n",
        "    x = np.zeros(n)\n",
        "    for i in range(n - 1, -1, -1):\n",
        "        x[i] = chop((chop(b[i]) - chop(np.dot(A[i, i + 1:], x[i + 1:]))) / chop(A[i, i]))\n",
        "    return x\n",
        "\n",
        "# Solve using chopping and partial pivoting\n",
        "solution_6 = gaussian_elimination_chopping_partial_pivoting(A5.copy(), b5.copy(), 4)\n",
        "print(\"Solution (Problem 6):\", solution_6)"
      ],
      "metadata": {
        "colab": {
          "base_uri": "https://localhost:8080/"
        },
        "id": "v9zd8_tarrcW",
        "outputId": "ce5320f1-3038-43bd-9972-5b04f8ddd09a"
      },
      "execution_count": 7,
      "outputs": [
        {
          "output_type": "stream",
          "name": "stdout",
          "text": [
            "Solution (Problem 6): [  3.    -13.004   1.002]\n"
          ]
        }
      ]
    }
  ]
}