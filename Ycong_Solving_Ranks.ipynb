{
  "nbformat": 4,
  "nbformat_minor": 0,
  "metadata": {
    "colab": {
      "provenance": []
    },
    "kernelspec": {
      "name": "python3",
      "display_name": "Python 3"
    },
    "language_info": {
      "name": "python"
    }
  },
  "cells": [
    {
      "cell_type": "markdown",
      "source": [
        "**Problem Practice #1**"
      ],
      "metadata": {
        "id": "jKo1kxo_kWLv"
      }
    },
    {
      "cell_type": "code",
      "execution_count": 3,
      "metadata": {
        "colab": {
          "base_uri": "https://localhost:8080/"
        },
        "id": "L_0YP0o5dnxK",
        "outputId": "73d25af7-4ea6-4bc3-9861-c9a108ad8de5"
      },
      "outputs": [
        {
          "output_type": "stream",
          "name": "stdout",
          "text": [
            "Rank of matrix A: 2\n"
          ]
        }
      ],
      "source": [
        "import numpy as np\n",
        "\n",
        "# Define the matrix\n",
        "A = np.array([[1, 2, 0, 4],\n",
        "             [3, 6, 0, 8],\n",
        "             [5, 10, 0, 12],\n",
        "             [7, 14, 0, 16]])\n",
        "\n",
        "# Compute the rank\n",
        "rank = np.linalg.matrix_rank(A)\n",
        "\n",
        "# Print the rank\n",
        "print(\"Rank of matrix A:\", rank)"
      ]
    },
    {
      "cell_type": "markdown",
      "source": [
        "**Problem Practice #2**"
      ],
      "metadata": {
        "id": "MQlTeU99kaqb"
      }
    },
    {
      "cell_type": "code",
      "source": [
        "# Define the coefficient matrix (B) and constant column vector (C)\n",
        "B = np.array([[1, 1, 1],\n",
        "              [2, 4, 3],\n",
        "              [0, 0, 1]])\n",
        "\n",
        "C = np.array([[6],\n",
        "              [18],\n",
        "              [5]])\n",
        "\n",
        "# Check if the matrix is invertible\n",
        "if np.linalg.det(B) != 0:\n",
        "    x = np.linalg.inv(B).dot(C)\n",
        "    print(f\"Solution: {x}\")\n",
        "else:\n",
        "    print(\"Matrix B is not invertible. No unique solution.\")"
      ],
      "metadata": {
        "colab": {
          "base_uri": "https://localhost:8080/"
        },
        "id": "SYgG-xVQkdDM",
        "outputId": "702b7586-3134-4dbd-a9f2-74569f1fb184"
      },
      "execution_count": 6,
      "outputs": [
        {
          "output_type": "stream",
          "name": "stdout",
          "text": [
            "Solution: \n",
            "[[0.5]\n",
            " [0.5]\n",
            " [5. ]]\n"
          ]
        }
      ]
    },
    {
      "cell_type": "markdown",
      "source": [
        "**Problem Practice #3**"
      ],
      "metadata": {
        "id": "gT7Ob8jTlNqs"
      }
    },
    {
      "cell_type": "code",
      "source": [
        "# Define the coefficient matrix (D) and constant column vector (E)\n",
        "D = np.array([[1, 1, 1, 1],\n",
        "              [2, 1, 0, 3],\n",
        "              [4, 3, 2, 1],\n",
        "              [3, 0, 5, 2]])\n",
        "\n",
        "E = np.array([[10],\n",
        "              [11],\n",
        "              [20],\n",
        "              [15]])\n",
        "\n",
        "# Check if the matrix is invertible\n",
        "if np.linalg.det(D) != 0:\n",
        "    x = np.linalg.inv(D).dot(E)\n",
        "    print(f\"Solution: {x}\")\n",
        "else:\n",
        "    print(\"Matrix D is not invertible. No unique solution.\")"
      ],
      "metadata": {
        "colab": {
          "base_uri": "https://localhost:8080/"
        },
        "id": "81jMpTjymaNT",
        "outputId": "bb940807-d796-4c0b-ebaf-47c850f0875e"
      },
      "execution_count": 7,
      "outputs": [
        {
          "output_type": "stream",
          "name": "stdout",
          "text": [
            "Solution: [[-1.625]\n",
            " [ 6.   ]\n",
            " [ 2.875]\n",
            " [ 2.75 ]]\n"
          ]
        }
      ]
    }
  ]
}