{
  "nbformat": 4,
  "nbformat_minor": 0,
  "metadata": {
    "colab": {
      "provenance": []
    },
    "kernelspec": {
      "name": "python3",
      "display_name": "Python 3"
    },
    "language_info": {
      "name": "python"
    }
  },
  "cells": [
    {
      "cell_type": "markdown",
      "source": [
        "**Section 1: Transpose of a Matrix and Symmetric Matrices**"
      ],
      "metadata": {
        "id": "hZlyKuBFwVqM"
      }
    },
    {
      "cell_type": "markdown",
      "source": [
        "**Practice Problem 1**"
      ],
      "metadata": {
        "id": "sd8m0Y_Lsp7t"
      }
    },
    {
      "cell_type": "code",
      "source": [
        "\"\"\"\"\"\n",
        "Q1: What are some examples of unary operations in matries?\n",
        "- Transpose: Flipping the matrix over its diagonal.\n",
        "- Trace: The sum of the diagonal elements.\n",
        "- Determinant: A scalar value that represents certain properties of the Matrix.\n",
        "\"\"\"\"\""
      ],
      "metadata": {
        "id": "XVuoJl1CunHT",
        "colab": {
          "base_uri": "https://localhost:8080/",
          "height": 70
        },
        "outputId": "960199d7-3b01-4079-9337-b93433ff305e"
      },
      "execution_count": 3,
      "outputs": [
        {
          "output_type": "execute_result",
          "data": {
            "text/plain": [
              "'\"\"\\nQ1: What are some examples of unary operations in matries?\\n- Transpose: Flipping the matrix over its diagonal.\\n- Trace: The sum of the diagonal elements.\\n- Determinant: A scalar value that represents certain properties of the Matrix.\\n'"
            ],
            "application/vnd.google.colaboratory.intrinsic+json": {
              "type": "string"
            }
          },
          "metadata": {},
          "execution_count": 3
        }
      ]
    },
    {
      "cell_type": "code",
      "execution_count": 4,
      "metadata": {
        "colab": {
          "base_uri": "https://localhost:8080/"
        },
        "id": "NA-mq1tKsnY3",
        "outputId": "5ab8d6fd-f30b-4698-c074-5069c662f1e1"
      },
      "outputs": [
        {
          "output_type": "stream",
          "name": "stdout",
          "text": [
            "Matrix A:\n",
            " [[1 2 3]\n",
            " [4 5 6]\n",
            " [7 8 9]]\n",
            "\n",
            "Transpose of Matrix A:\n",
            " [[1 4 7]\n",
            " [2 5 8]\n",
            " [3 6 9]]\n"
          ]
        }
      ],
      "source": [
        "import numpy as np\n",
        "\n",
        "# Create a 3x3 matrix\n",
        "matrix_A = np.array([[1, 2, 3],\n",
        "                    [4, 5, 6],\n",
        "                    [7, 8, 9]])\n",
        "\n",
        "# Find the transpose\n",
        "transpose_A = matrix_A.T\n",
        "\n",
        "print(\"Matrix A:\\n\", matrix_A)\n",
        "print(\"\\nTranspose of Matrix A:\\n\", transpose_A)"
      ]
    },
    {
      "cell_type": "code",
      "source": [
        "\"\"\"\"\"\n",
        "Q2: Check if matrix_A is a symmetri matrix. Modify the code below to verify this.\n",
        "\"\"\"\"\"\n",
        "is_symmetric = (matrix_A == transpose_A).all()\n",
        "print(\"\\nIs this matrix a symmetric?\", is_symmetric)"
      ],
      "metadata": {
        "colab": {
          "base_uri": "https://localhost:8080/"
        },
        "id": "74GOfOcStg7E",
        "outputId": "a579a4c1-e4f4-4d98-cb48-2e35eff17d1f"
      },
      "execution_count": 5,
      "outputs": [
        {
          "output_type": "stream",
          "name": "stdout",
          "text": [
            "\n",
            "Is this matrix a symmetric? False\n"
          ]
        }
      ]
    },
    {
      "cell_type": "code",
      "source": [
        "# Pre-generated matrix test\n",
        "matrix_B = np.array([[1, 2, 3, 4],\n",
        "                     [5, 6, 7, 8,],\n",
        "                     [9, 10, 11, 12],\n",
        "                     [13, 14, 15, 16]])\n",
        "\n",
        "transpose_matrix_B = matrix_B.T\n",
        "\n",
        "print(\"Matrix B:\\n\", matrix_B)\n",
        "print(\"\\nTranspose of Matrix B:\\n\", transpose_matrix_B)\n",
        "\n",
        "is_symmetric = (matrix_B == transpose_matrix_B).all()\n",
        "print(\"\\nIs this matrix a symmetric?\", is_symmetric)"
      ],
      "metadata": {
        "colab": {
          "base_uri": "https://localhost:8080/"
        },
        "id": "ymLR8ii5tyGm",
        "outputId": "6390bbe6-c63b-411c-8c22-25239f4cfa52"
      },
      "execution_count": 6,
      "outputs": [
        {
          "output_type": "stream",
          "name": "stdout",
          "text": [
            "Matrix B:\n",
            " [[ 1  2  3  4]\n",
            " [ 5  6  7  8]\n",
            " [ 9 10 11 12]\n",
            " [13 14 15 16]]\n",
            "\n",
            "Transpose of Matrix B:\n",
            " [[ 1  5  9 13]\n",
            " [ 2  6 10 14]\n",
            " [ 3  7 11 15]\n",
            " [ 4  8 12 16]]\n",
            "\n",
            "Is this matrix a symmetric? False\n"
          ]
        }
      ]
    },
    {
      "cell_type": "code",
      "source": [
        "# Random matrix test\n",
        "random_matrix = np.random.randint(1, 10, (4, 4))\n",
        "transpose_random = random_matrix.T\n",
        "\n",
        "symmetric_matrix = (random_matrix + random_matrix.T) // 2\n",
        "\n",
        "print(\"Random Matrix:\\n\", random_matrix)\n",
        "print(\"\\nTranspose of Random Matrix:\\n\", transpose_random)\n",
        "\n",
        "is_symmetric = (symmetric_matrix == symmetric_matrix.T).all()\n",
        "print(\"\\nIs this matrix a symmetric?\", is_symmetric)"
      ],
      "metadata": {
        "colab": {
          "base_uri": "https://localhost:8080/"
        },
        "id": "YsUKiIgEuTNi",
        "outputId": "e0f38d21-64d0-47ec-90be-6e9461854989"
      },
      "execution_count": 7,
      "outputs": [
        {
          "output_type": "stream",
          "name": "stdout",
          "text": [
            "Random Matrix:\n",
            " [[6 4 3 5]\n",
            " [4 5 9 7]\n",
            " [4 4 8 8]\n",
            " [5 7 1 3]]\n",
            "\n",
            "Transpose of Random Matrix:\n",
            " [[6 4 4 5]\n",
            " [4 5 4 7]\n",
            " [3 9 8 1]\n",
            " [5 7 8 3]]\n",
            "\n",
            "Is this matrix a symmetric? True\n"
          ]
        }
      ]
    },
    {
      "cell_type": "markdown",
      "source": [
        "**Section 2: Trace of a Matrix**"
      ],
      "metadata": {
        "id": "PTKhTqjnwbmA"
      }
    },
    {
      "cell_type": "code",
      "source": [
        "# Calculate the trace of matrix_A\n",
        "trace_A = np.trace(matrix_A)\n",
        "print(\"\\nTrace of Matrix A:\", trace_A)"
      ],
      "metadata": {
        "colab": {
          "base_uri": "https://localhost:8080/"
        },
        "id": "EO6gIl37v8UZ",
        "outputId": "050e22bc-ca6d-406b-dc65-224f44b5507c"
      },
      "execution_count": 8,
      "outputs": [
        {
          "output_type": "stream",
          "name": "stdout",
          "text": [
            "\n",
            "Trace of Matrix A: 15\n"
          ]
        }
      ]
    },
    {
      "cell_type": "code",
      "source": [
        "\"\"\"\"\"\n",
        "Q3: What is the trace of following matrix?\n",
        "\"\"\"\"\"\n",
        "\n",
        "matrix_C = np.array([[10, 20, 30],\n",
        "                     [5, 15, 25],\n",
        "                     [2, 4, 6]])\n",
        "\n",
        "trace_C = np.trace(matrix_C)\n",
        "print(\"\\nTrace of Matrix C:\", trace_C)"
      ],
      "metadata": {
        "colab": {
          "base_uri": "https://localhost:8080/"
        },
        "id": "ZndyuV2JwsSG",
        "outputId": "27b36547-c9af-494c-96ac-bd36f447d8b4"
      },
      "execution_count": 9,
      "outputs": [
        {
          "output_type": "stream",
          "name": "stdout",
          "text": [
            "\n",
            "Trace of Matrix C: 31\n"
          ]
        }
      ]
    },
    {
      "cell_type": "markdown",
      "source": [
        "**Practice Problem 2**"
      ],
      "metadata": {
        "id": "wT2FFsh0w8m0"
      }
    },
    {
      "cell_type": "code",
      "source": [
        "# Pre-generated 5x5 matrix\n",
        "pre_matrix_A = np.array([[1, 2, 3, 4, 5],\n",
        "                         [6, 7, 8, 9, 10],\n",
        "                         [11, 12, 13, 14, 15],\n",
        "                         [16, 17, 18, 19, 20],\n",
        "                         [21, 22, 23, 24, 25]])\n",
        "\n",
        "trace_pre_matrix_A = np.trace(pre_matrix_A)\n",
        "print(\"\\nTrace of Matrix A:\", trace_pre_matrix_A)"
      ],
      "metadata": {
        "colab": {
          "base_uri": "https://localhost:8080/"
        },
        "id": "v_YF10lcwvC1",
        "outputId": "23453159-a92e-44a9-dba9-afd924788d4b"
      },
      "execution_count": 10,
      "outputs": [
        {
          "output_type": "stream",
          "name": "stdout",
          "text": [
            "\n",
            "Trace of Matrix A: 65\n"
          ]
        }
      ]
    },
    {
      "cell_type": "markdown",
      "source": [
        "**Section 3: Determinant using the Cofactor Method**"
      ],
      "metadata": {
        "id": "mnfWKt6nxfXR"
      }
    },
    {
      "cell_type": "code",
      "source": [
        "# Determinant using NumPy\n",
        "det_A = np.linalg.det(matrix_A)\n",
        "print(\"\\nDeterminant of Matrix A:\", det_A)"
      ],
      "metadata": {
        "colab": {
          "base_uri": "https://localhost:8080/"
        },
        "id": "EmNmBpm1xUfz",
        "outputId": "5d33d8f7-4353-4617-fa5b-af1ce182b8ad"
      },
      "execution_count": 11,
      "outputs": [
        {
          "output_type": "stream",
          "name": "stdout",
          "text": [
            "\n",
            "Determinant of Matrix A: 0.0\n"
          ]
        }
      ]
    },
    {
      "cell_type": "code",
      "source": [
        "matrix_d = np.array([[4, 6],\n",
        "                     [3, 8]])\n",
        "\n",
        "det_D = (matrix_d[0,0] * matrix_d[1,1]) - (matrix_d[0,1] * matrix_d[1,0])\n",
        "print(\"\\nDeterminant of Matrix C:\", det_D)"
      ],
      "metadata": {
        "colab": {
          "base_uri": "https://localhost:8080/"
        },
        "id": "OTtB6wEdxu_X",
        "outputId": "5859ebb1-fe57-4f85-ebd5-01ec7c0d36a8"
      },
      "execution_count": 12,
      "outputs": [
        {
          "output_type": "stream",
          "name": "stdout",
          "text": [
            "\n",
            "Determinant of Matrix C: 14\n"
          ]
        }
      ]
    },
    {
      "cell_type": "markdown",
      "source": [
        "**Practice Problem 3**\n"
      ],
      "metadata": {
        "id": "r8uHAbVix6_S"
      }
    },
    {
      "cell_type": "code",
      "source": [
        "# Compute the determinant of the folowing 3x3 matrix using NumPy:\n",
        "\n",
        "matrix_E = np.array([[1, 2, 3],\n",
        "                   [0, 4, 5],\n",
        "                   [1, 0, 6]])\n",
        "\n",
        "det_E = np.linalg.det(matrix_E)\n",
        "\n",
        "print(\"Matrix E:\\n\", matrix_E)\n",
        "print(\"\\nDeterminant of Matrix E:\", det_E)"
      ],
      "metadata": {
        "colab": {
          "base_uri": "https://localhost:8080/"
        },
        "id": "ww9WKy54yEbc",
        "outputId": "2c57e605-f9d5-48c1-92a3-bc36966c5ea9"
      },
      "execution_count": 13,
      "outputs": [
        {
          "output_type": "stream",
          "name": "stdout",
          "text": [
            "Matrix E:\n",
            " [[1 2 3]\n",
            " [0 4 5]\n",
            " [1 0 6]]\n",
            "\n",
            "Determinant of Matrix E: 22.000000000000004\n"
          ]
        }
      ]
    },
    {
      "cell_type": "markdown",
      "source": [
        "**Practice Problem #4**"
      ],
      "metadata": {
        "id": "qXhzzWqz9X5y"
      }
    },
    {
      "cell_type": "code",
      "source": [
        "random_matrix_A = np.random.randint(1, 10, (3, 33))\n",
        "\n",
        "transpose_random = random_matrix_A.T\n",
        "\n",
        "print(\"Random Matrix A:\\n\", random_matrix_A)\n",
        "print(\"\\nTranspose of Random Matrix A:\\n\", transpose_random)"
      ],
      "metadata": {
        "colab": {
          "base_uri": "https://localhost:8080/"
        },
        "id": "ii9xVoan9SOu",
        "outputId": "e5b370a9-6121-41d1-cc6f-b355129e913e"
      },
      "execution_count": 15,
      "outputs": [
        {
          "output_type": "stream",
          "name": "stdout",
          "text": [
            "Random Matrix A:\n",
            " [[8 2 7 9 7 5 4 5 7 7 2 2 2 7 6 5 8 8 6 4 5 1 9 4 3 6 8 3 2 4 4 8 1]\n",
            " [6 2 3 4 5 8 3 3 9 3 1 2 6 7 6 1 5 7 9 9 5 6 6 4 1 5 4 2 3 5 1 4 2]\n",
            " [1 5 6 7 3 9 7 1 1 9 9 9 9 7 2 2 4 4 4 1 6 5 6 7 4 9 2 9 7 1 3 2 3]]\n",
            "\n",
            "Transpose of Random Matrix A:\n",
            " [[8 6 1]\n",
            " [2 2 5]\n",
            " [7 3 6]\n",
            " [9 4 7]\n",
            " [7 5 3]\n",
            " [5 8 9]\n",
            " [4 3 7]\n",
            " [5 3 1]\n",
            " [7 9 1]\n",
            " [7 3 9]\n",
            " [2 1 9]\n",
            " [2 2 9]\n",
            " [2 6 9]\n",
            " [7 7 7]\n",
            " [6 6 2]\n",
            " [5 1 2]\n",
            " [8 5 4]\n",
            " [8 7 4]\n",
            " [6 9 4]\n",
            " [4 9 1]\n",
            " [5 5 6]\n",
            " [1 6 5]\n",
            " [9 6 6]\n",
            " [4 4 7]\n",
            " [3 1 4]\n",
            " [6 5 9]\n",
            " [8 4 2]\n",
            " [3 2 9]\n",
            " [2 3 7]\n",
            " [4 5 1]\n",
            " [4 1 3]\n",
            " [8 4 2]\n",
            " [1 2 3]]\n"
          ]
        }
      ]
    },
    {
      "cell_type": "markdown",
      "source": [
        "**Practice Problem #5**"
      ],
      "metadata": {
        "id": "dz69lbpe_PDJ"
      }
    },
    {
      "cell_type": "code",
      "source": [
        "random_matrix = np.random.randint(1, 10, (3, 3))\n",
        "\n",
        "symmetric_matrix = (random_matrix + random_matrix.T) / 2\n",
        "\n",
        "is_symmetric = np.allclose(symmetric_matrix, symmetric_matrix.T)\n",
        "\n",
        "# Print results\n",
        "print(\"Random Matrix:\\n\", random_matrix)\n",
        "print(\"\\nSymmetric Matrix:\\n\", symmetric_matrix)\n",
        "print(\"\\nIs the matrix symmetric?:\", is_symmetric)"
      ],
      "metadata": {
        "colab": {
          "base_uri": "https://localhost:8080/"
        },
        "id": "ed2vJk-t-938",
        "outputId": "0c3e97b8-c222-4322-b1e3-5a596c086c53"
      },
      "execution_count": 16,
      "outputs": [
        {
          "output_type": "stream",
          "name": "stdout",
          "text": [
            "Random Matrix:\n",
            " [[2 2 1]\n",
            " [7 9 8]\n",
            " [2 8 6]]\n",
            "\n",
            "Symmetric Matrix:\n",
            " [[2.  4.5 1.5]\n",
            " [4.5 9.  8. ]\n",
            " [1.5 8.  6. ]]\n",
            "\n",
            "Is the matrix symmetric?: True\n"
          ]
        }
      ]
    }
  ]
}